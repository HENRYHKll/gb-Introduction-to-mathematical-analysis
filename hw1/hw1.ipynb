{
 "cells": [
  {
   "cell_type": "markdown",
   "id": "c56dcf2a-5477-44d3-89aa-6243e1d7086e",
   "metadata": {},
   "source": [
    "# Практическое задание к лекции No2"
   ]
  },
  {
   "cell_type": "markdown",
   "id": "6d79c266-82bc-460b-9d20-6245d1951bf7",
   "metadata": {},
   "source": [
    "## 1. Представьте в виде несократимой рациональной дроби:"
   ]
  },
  {
   "cell_type": "markdown",
   "id": "aa4e446e-c5d8-4c50-b56d-081dc9823941",
   "metadata": {},
   "source": [
    "### **а) 0.(216)**"
   ]
  },
  {
   "cell_type": "markdown",
   "id": "04cc1326-c1b1-48b7-8f0d-ef52a31f0191",
   "metadata": {},
   "source": [
    "### *a = 0.(216)*"
   ]
  },
  {
   "cell_type": "markdown",
   "id": "db4ac02e-8631-45cf-8b86-a05e9b65d7e8",
   "metadata": {},
   "source": [
    "### *1000a = 216.(216)*"
   ]
  },
  {
   "cell_type": "markdown",
   "id": "c5dcec55-5bbd-462f-8b82-e435c0c84d40",
   "metadata": {},
   "source": [
    "### *1000a = 216 + 0.(216)*"
   ]
  },
  {
   "cell_type": "markdown",
   "id": "617bc0a1-6f0a-4f92-aa3b-1e02cce01d39",
   "metadata": {},
   "source": [
    "### *1000a = 216 + a*"
   ]
  },
  {
   "cell_type": "markdown",
   "id": "90633fb0-e959-4590-b50e-b44dd2623ce0",
   "metadata": {},
   "source": [
    "### *999a = 216*"
   ]
  },
  {
   "cell_type": "markdown",
   "id": "29ea4f80-b85c-4a14-a556-0431cee1d981",
   "metadata": {},
   "source": [
    "### *a = $ \\frac{216}{999}$ = $ \\frac{8}{37}$* = 0.(216)\n"
   ]
  },
  {
   "cell_type": "markdown",
   "id": "4df42c33-ae0a-4dc6-b538-1c1183474638",
   "metadata": {},
   "source": [
    "### **b) 1.0(01)**"
   ]
  },
  {
   "cell_type": "markdown",
   "id": "684dc502-16b4-4961-85eb-bc307fbe24ab",
   "metadata": {},
   "source": [
    "### *c = 1.0(01)*"
   ]
  },
  {
   "cell_type": "markdown",
   "id": "9523c560-aa52-4c14-a9b1-2fc5dfa0881c",
   "metadata": {},
   "source": [
    "### *10c = 10.(01)*"
   ]
  },
  {
   "cell_type": "markdown",
   "id": "0b26173d-79ef-46a4-8680-ec10528254fa",
   "metadata": {},
   "source": [
    "### *10c = 10 + 0.(01)*"
   ]
  },
  {
   "cell_type": "markdown",
   "id": "268753c6-f834-4109-b0ea-3f935fc7f7a7",
   "metadata": {},
   "source": [
    "### *a = 0.01; 99a = 1; a = $ \\frac{1}{99}$*"
   ]
  },
  {
   "cell_type": "markdown",
   "id": "657b16d8-e767-4157-838b-bc1c2cfcd035",
   "metadata": {},
   "source": [
    "### *10c = 10 +  $ \\frac{1}{99}$ = $ \\frac{991}{99}$*"
   ]
  },
  {
   "cell_type": "markdown",
   "id": "7261e98d-a817-4560-95d4-34afec08836d",
   "metadata": {},
   "source": [
    "### *c =  $ \\frac{991}{990}$* = 1.0(01)"
   ]
  },
  {
   "cell_type": "markdown",
   "id": "7852a5ff-a211-4fdd-8cc1-c217d1751285",
   "metadata": {},
   "source": [
    "## 2. Проверьте любым способом, являются ли данные логические формулы тавтологией:"
   ]
  },
  {
   "cell_type": "markdown",
   "id": "4ff3171b-ad5d-4e32-adfd-7cae75aaff1f",
   "metadata": {},
   "source": [
    "## а) $ (A ∨ B) → (B ∨ \\overline{A})$"
   ]
  },
  {
   "cell_type": "markdown",
   "id": "1f7bfc32-9bb3-4fad-9c47-c1b94785a9fb",
   "metadata": {},
   "source": [
    "|a|b|A ∨ B|A̅|B ∨ A̅| (A ∨ B) → (B ∨ A̅)|\n",
    "| --- |---|---|---|---|---|\n",
    "|0|1|1|1|1|1|\n",
    "|1|0|1|0|0|1|\n",
    "|0|0|0|1|1|1|\n",
    "|1|1|1|0|1|1|"
   ]
  },
  {
   "cell_type": "markdown",
   "id": "bf3fb543-a89a-4bbc-a8e4-a38bfd9cd633",
   "metadata": {},
   "source": [
    "## b) $A → (A ∨ (\\overline{B}∧ A))$ "
   ]
  },
  {
   "cell_type": "markdown",
   "id": "0c87a27b-d5f5-4b9d-8482-37d3cc373e8d",
   "metadata": {},
   "source": [
    "|a|b|￢B|￢B ∧ A| A (￢B∧ A)| A → (A ∨ (￢B ∧ A)|\n",
    "| --- |---|---|---|---|---|\n",
    "|0|1|0|0|0|1|\n",
    "|1|1|0|0|1|1|\n",
    "|0|0|1|0|0|1|\n",
    "|1|0|1|1|1|1|"
   ]
  },
  {
   "cell_type": "markdown",
   "id": "fc940d51-c408-4675-bfa5-77a743083621",
   "metadata": {},
   "source": [
    "## 3. Сформулируйте словесно высказывания:"
   ]
  },
  {
   "cell_type": "markdown",
   "id": "a75b415d-5806-44e5-b1b2-7497e5d7b45c",
   "metadata": {},
   "source": [
    "### где А: сегодня светит солнце; В: сегодня сыро; С: я поеду на дачу."
   ]
  },
  {
   "cell_type": "markdown",
   "id": "b38186ab-77d9-40df-bc87-a05ae206dbcc",
   "metadata": {},
   "source": [
    "## а) $(A̅∨ B) → C̅$"
   ]
  },
  {
   "cell_type": "markdown",
   "id": "626f83ae-02fd-4f5e-afee-dc46db4c889e",
   "metadata": {},
   "source": [
    "### Если сегоня ***не*** светит солнце ***и***  сегодня сыро, ***то***   я  не поеду на дачу."
   ]
  },
  {
   "cell_type": "markdown",
   "id": "57fb1400-9ad3-443b-b87e-04b24d44216e",
   "metadata": {},
   "source": [
    "## b) $ C → (A ∨ \\overline{B}) $"
   ]
  },
  {
   "cell_type": "markdown",
   "id": "e09d6d82-2df7-480b-bf33-ca2e665fd4fe",
   "metadata": {},
   "source": [
    "### Ели я поеду на дачу, ***то***  сегодня светит солнце и сегодня ***не*** сыро."
   ]
  }
 ],
 "metadata": {
  "kernelspec": {
   "display_name": "Python 3",
   "language": "python",
   "name": "python3"
  },
  "language_info": {
   "codemirror_mode": {
    "name": "ipython",
    "version": 3
   },
   "file_extension": ".py",
   "mimetype": "text/x-python",
   "name": "python",
   "nbconvert_exporter": "python",
   "pygments_lexer": "ipython3",
   "version": "3.8.8"
  }
 },
 "nbformat": 4,
 "nbformat_minor": 5
}
